{
 "cells": [
  {
   "cell_type": "markdown",
   "id": "a3dbbe3c",
   "metadata": {},
   "source": [
    "# TDI 12-day program, Day 4: Pandas\n",
    "\n",
    "Below are the questions and answers from day 4 of the 12-day program. Data are from the [New York City Value of Energy Cost Savings Program](https://data.cityofnewyork.us/City-Government/Value-of-Energy-Cost-Savings-Program-Savings-for-B/bug8-9f3g).\n",
    "\n",
    "## Python script header\n",
    "\n",
    "Begin by importing necessary modules (just Pandas for this script) and the data we will be parsing."
   ]
  },
  {
   "cell_type": "code",
   "execution_count": 2,
   "id": "0f0e7776",
   "metadata": {},
   "outputs": [],
   "source": [
    "import pandas as pd\n",
    "\n",
    "df = pd.read_csv(\n",
    "        'Value_of_Energy_Cost_Savings_Program_Savings_for_Businesses_'\n",
    "        '-_FY2020.csv')"
   ]
  },
  {
   "cell_type": "markdown",
   "id": "1c57dbea",
   "metadata": {},
   "source": [
    "## 1. How many different companies are represented in the data set?"
   ]
  },
  {
   "cell_type": "code",
   "execution_count": 3,
   "id": "96100e96",
   "metadata": {},
   "outputs": [
    {
     "name": "stdout",
     "output_type": "stream",
     "text": [
      "439\n"
     ]
    }
   ],
   "source": [
    "num_companies = len(df['Company Name'].value_counts())\n",
    "print(num_companies)"
   ]
  },
  {
   "cell_type": "markdown",
   "id": "422cccae",
   "metadata": {},
   "source": [
    "## 2. What is the total number of jobs created for businesses in Queens?"
   ]
  },
  {
   "cell_type": "code",
   "execution_count": 4,
   "id": "1eb6fed0",
   "metadata": {},
   "outputs": [
    {
     "name": "stdout",
     "output_type": "stream",
     "text": [
      "102.0\n"
     ]
    }
   ],
   "source": [
    "jobs_by_borough = df[['Borough', 'Job created']].groupby('Borough').sum()\n",
    "print(jobs_by_borough.loc['Queens', 'Job created'])"
   ]
  },
  {
   "cell_type": "markdown",
   "id": "fa4b29c5",
   "metadata": {},
   "source": [
    "## 3. How many different unique email domain names are there in the data set?"
   ]
  },
  {
   "cell_type": "code",
   "execution_count": 6,
   "id": "e068f209",
   "metadata": {},
   "outputs": [
    {
     "name": "stdout",
     "output_type": "stream",
     "text": [
      "356\n"
     ]
    }
   ],
   "source": [
    "# Get email domains by splitting email strings \n",
    "# at '@' and taking the ending\n",
    "domains = df['company email'].str.split('@', expand=True).iloc[:,1]\n",
    "ndomains = domains.nunique(dropna=True)\n",
    "print(ndomains)"
   ]
  },
  {
   "cell_type": "markdown",
   "id": "29abbeaf",
   "metadata": {},
   "source": [
    "## 4. Considering only NTAs with at least 5 listed businesses, what is the average total savings and the total jobs created for each NTA?"
   ]
  },
  {
   "cell_type": "code",
   "execution_count": 7,
   "id": "d776e9ae",
   "metadata": {},
   "outputs": [
    {
     "name": "stdout",
     "output_type": "stream",
     "text": [
      "                                                  Average Savings  Job created\n",
      "NTA                                                                           \n",
      "Battery Park City-Lower Manhattan                   469890.796667          0.0\n",
      "Bushwick South                                       26140.455000         10.0\n",
      "Carroll Gardens-Columbia Street-Red Hook             24337.390000          0.0\n",
      "College Point                                        17159.372857          2.0\n",
      "Crown Heights North                                   4036.298889          0.0\n",
      "DUMBO-Vinegar Hill-Downtown Brooklyn-Boerum Hill     59950.340000          0.0\n",
      "East New York                                        48433.093333         15.0\n",
      "East Williamsburg                                    13990.626364          0.0\n",
      "Greenpoint                                            9753.649286          0.0\n",
      "Hunters Point-Sunnyside-West Maspeth                 23931.398933          0.0\n",
      "Hunts Point                                          39246.016154         12.0\n",
      "Manhattanville                                        2760.888889          0.0\n",
      "Maspeth                                               6658.283333         10.0\n",
      "Mott Haven-Port Morris                               17843.937857         10.0\n",
      "Queensbridge-Ravenswood-Long Island City             61830.770625          0.0\n",
      "SoHo-TriBeCa-Civic Center-Little Italy               37214.024000          0.0\n",
      "Springfield Gardens South-Brookville                 17757.662000          0.0\n",
      "Steinway                                             11227.155714         20.0\n",
      "Sunset Park West                                     14316.976875          0.0\n",
      "park-cemetery-etc-Brooklyn                           14327.419333          0.0\n"
     ]
    }
   ],
   "source": [
    "# First we determine NTAs with >=5 businesses\n",
    "# and remove all other NTAs\n",
    "nta_counts = df['NTA'].value_counts()\n",
    "valid_NTAs = nta_counts[nta_counts >= 5].keys()\n",
    "NTA_filtered = df.loc[df['NTA'].isin(valid_NTAs), ['NTA','Total Savings','Job created']]\n",
    "\n",
    "# Get mean savings and total jobs created for each NTA\n",
    "savings_by_NTA = NTA_filtered.groupby('NTA')['Total Savings'].mean()\n",
    "jobs_by_NTA = NTA_filtered.groupby('NTA')['Job created'].sum()\n",
    "\n",
    "# Combine into one data frame\n",
    "savings_jobs_by_NTA = pd.concat([savings_by_NTA, jobs_by_NTA], axis=1)\n",
    "\n",
    "# Rename the savings column to reflect that it's an average, not a total\n",
    "savings_jobs_by_NTA = \\\n",
    "    savings_jobs_by_NTA.rename(columns={'Total Savings':'Average Savings'})\n",
    "print(savings_jobs_by_NTA)"
   ]
  },
  {
   "cell_type": "markdown",
   "id": "5dcb116a",
   "metadata": {},
   "source": [
    "## 5. Save your result for the previous question as a CSV file."
   ]
  },
  {
   "cell_type": "code",
   "execution_count": 8,
   "id": "d5df9ddc",
   "metadata": {},
   "outputs": [],
   "source": [
    "savings_jobs_by_NTA.to_csv('ECSP_2020_savings_jobs_by_NTA.csv')"
   ]
  }
 ],
 "metadata": {
  "kernelspec": {
   "display_name": "Python 3 (ipykernel)",
   "language": "python",
   "name": "python3"
  },
  "language_info": {
   "codemirror_mode": {
    "name": "ipython",
    "version": 3
   },
   "file_extension": ".py",
   "mimetype": "text/x-python",
   "name": "python",
   "nbconvert_exporter": "python",
   "pygments_lexer": "ipython3",
   "version": "3.8.10"
  }
 },
 "nbformat": 4,
 "nbformat_minor": 5
}
